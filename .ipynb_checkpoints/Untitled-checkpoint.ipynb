{
 "cells": [
  {
   "cell_type": "code",
   "execution_count": 1,
   "metadata": {},
   "outputs": [],
   "source": [
    "import torch\n",
    "torch.cuda.current_device()\n",
    "from torch.nn import Module\n",
    "from torch.nn import Linear\n",
    "from torch import tanh, sigmoid, relu\n",
    "from torch.nn.functional import mse_loss\n",
    "import numpy as np\n",
    "from torch.distributions.multivariate_normal import MultivariateNormal\n",
    "from torch import diag_embed\n",
    "from torch import prod\n",
    "from torchvision.datasets import MNIST\n",
    "from torch.utils.data import Dataset, DataLoader\n",
    "from torch.optim import SGD\n",
    "from torch.optim import Adam\n",
    "from PIL import Image\n",
    "import matplotlib.pyplot as plt"
   ]
  },
  {
   "cell_type": "code",
   "execution_count": 2,
   "metadata": {},
   "outputs": [],
   "source": [
    "device = torch.device(\"cuda:0\" if torch.cuda.is_available() else \"cpu\")"
   ]
  },
  {
   "cell_type": "markdown",
   "metadata": {},
   "source": [
    "# Create model"
   ]
  },
  {
   "cell_type": "code",
   "execution_count": 3,
   "metadata": {},
   "outputs": [],
   "source": [
    "x_size = 3\n",
    "encoder_hidden_size= 500\n",
    "z_size = 8\n",
    "n_sample = 4\n",
    "decoder_hidden_size = 500\n",
    "x = torch.Tensor([[1,2,3],[4,5,6],[7,8,9]])"
   ]
  },
  {
   "cell_type": "code",
   "execution_count": 4,
   "metadata": {},
   "outputs": [],
   "source": [
    "class encoder(Module):\n",
    "    def __init__(self, input_size, hidden_size, output_dim, n_sample, device=None):\n",
    "        super(encoder, self).__init__()\n",
    "        self.input_size = input_size\n",
    "        self.hidden_size = hidden_size\n",
    "        self.output_dim = output_dim\n",
    "        self.n_sample = n_sample\n",
    "        self.device = device\n",
    "        \n",
    "        self.hidden_layer = Linear(input_size, hidden_size)\n",
    "        self.output_mu = Linear(hidden_size, output_dim)\n",
    "        self.output_sigma = Linear(hidden_size, output_dim)\n",
    "    \n",
    "    def forward(self, x):\n",
    "        # input shape: batch * input_size\n",
    "        # hidden shape: batch * hidden_size\n",
    "        hidden = tanh(self.hidden_layer(x))\n",
    "        # mu shape: batch * output_dim\n",
    "        # sigma_sq shape: batch * output_dim\n",
    "        mu = self.output_mu(hidden)\n",
    "        sigma_sq = torch.exp(self.output_sigma(hidden))\n",
    "        \n",
    "        batch = x.shape[0]\n",
    "        # epsilon shape: batch, n_sample, 1\n",
    "        \n",
    "        epsilon = torch.randn(batch, self.n_sample).unsqueeze(-1).to(self.device)\n",
    "        # z shape: batch, n_sample, output_dim\n",
    "        z = epsilon * sigma_sq.unsqueeze(1) + mu.unsqueeze(1)\n",
    "        return (mu, sigma_sq, z)"
   ]
  },
  {
   "cell_type": "code",
   "execution_count": 5,
   "metadata": {},
   "outputs": [
    {
     "name": "stdout",
     "output_type": "stream",
     "text": [
      "encoder mu: tensor([[ 0.0918, -0.3216,  0.4660,  0.5007, -0.0387,  0.6666, -0.1789, -0.0018],\n",
      "        [ 0.1855, -0.3590,  0.4948,  0.6441, -0.1202,  0.3469, -0.0291, -0.0060],\n",
      "        [ 0.2259, -0.2979,  0.5512,  0.6563, -0.1476,  0.2083,  0.0179,  0.0156]],\n",
      "       grad_fn=<AddmmBackward>) \n",
      " encoder sigma square: tensor([[1.1135, 1.0421, 1.2204, 1.3713, 1.0406, 1.7766, 1.2111, 0.7519],\n",
      "        [1.1835, 1.0559, 1.2616, 1.2415, 1.1581, 1.5653, 1.2023, 0.6206],\n",
      "        [1.2661, 1.0081, 1.3206, 1.0623, 1.1624, 1.4839, 1.2272, 0.5998]],\n",
      "       grad_fn=<ExpBackward>) \n",
      "z: tensor([[[-2.1484, -2.4181, -1.9893, -2.2581, -2.1322, -2.9077, -2.6154,\n",
      "          -1.5146],\n",
      "         [-0.6871, -1.0505, -0.3876, -0.4585, -0.7665, -0.5761, -1.0260,\n",
      "          -0.5277],\n",
      "         [ 1.3441,  0.8506,  1.8387,  2.0431,  1.1317,  2.6649,  1.1833,\n",
      "           0.8440],\n",
      "         [-0.7370, -1.0972, -0.4424, -0.5200, -0.8132, -0.6558, -1.0803,\n",
      "          -0.5615]],\n",
      "\n",
      "        [[ 0.1814, -0.3627,  0.4904,  0.6397, -0.1242,  0.3414, -0.0333,\n",
      "          -0.0082],\n",
      "         [ 0.7332,  0.1296,  1.0787,  1.2186,  0.4157,  1.0712,  0.5273,\n",
      "           0.2812],\n",
      "         [ 0.7042,  0.1038,  1.0478,  1.1882,  0.3874,  1.0329,  0.4979,\n",
      "           0.2660],\n",
      "         [ 1.4997,  0.8135,  1.8958,  2.0227,  1.1657,  2.0849,  1.3060,\n",
      "           0.6831]],\n",
      "\n",
      "        [[-0.5633, -0.9264, -0.2721, -0.0060, -0.8723, -0.7168, -0.7471,\n",
      "          -0.3583],\n",
      "         [-0.4223, -0.8141, -0.1250,  0.1124, -0.7428, -0.5515, -0.6104,\n",
      "          -0.2915],\n",
      "         [ 0.5746, -0.0203,  0.9149,  0.9489,  0.1725,  0.6170,  0.3559,\n",
      "           0.1808],\n",
      "         [ 0.9831,  0.3050,  1.3409,  1.2916,  0.5475,  1.0957,  0.7519,\n",
      "           0.3743]]], grad_fn=<AddBackward0>)\n"
     ]
    }
   ],
   "source": [
    "# test encoder\n",
    "Encoder = encoder(input_size=x_size, hidden_size=encoder_hidden_size,\n",
    "                  output_dim=z_size,n_sample=n_sample, device=None)\n",
    "\n",
    "encoder_mu,encoder_sigma_sq,z = Encoder(x)\n",
    "print(\"encoder mu:\",encoder_mu, \"\\n encoder sigma square:\",encoder_sigma_sq, \"\\nz:\",z)"
   ]
  },
  {
   "cell_type": "code",
   "execution_count": 6,
   "metadata": {},
   "outputs": [],
   "source": [
    "class decoder(Module):\n",
    "    def __init__(self, input_size, hidden_size, output_dim):\n",
    "        super(decoder, self).__init__()\n",
    "        self.input_size = input_size\n",
    "        self.hidden_size = hidden_size\n",
    "        self.output_dim = output_dim\n",
    "        \n",
    "        self.hidden_layer = Linear(input_size, hidden_size)\n",
    "        self.output_layer = Linear(hidden_size, output_dim)\n",
    "\n",
    "    def forward(self, z):\n",
    "        # z shape: batch, n_sample, input_size\n",
    "        \n",
    "        # hidden shape: batch, n_sample, hidden_size\n",
    "        hidden = relu(self.hidden_layer(z))\n",
    "        # output shape: batch, n_sample, output_size\n",
    "        output = sigmoid(self.output_layer(hidden))\n",
    "        \n",
    "        return output"
   ]
  },
  {
   "cell_type": "code",
   "execution_count": 7,
   "metadata": {},
   "outputs": [],
   "source": [
    "Decoder = decoder(input_size=z_size, \n",
    "                  hidden_size=decoder_hidden_size,\n",
    "                  output_dim=x_size)\n",
    "output = Decoder(z)"
   ]
  },
  {
   "cell_type": "code",
   "execution_count": 8,
   "metadata": {},
   "outputs": [
    {
     "name": "stdout",
     "output_type": "stream",
     "text": [
      "decoder output: tensor([[[0.3830, 0.4084, 0.4375],\n",
      "         [0.4559, 0.4962, 0.4741],\n",
      "         [0.5888, 0.4891, 0.4410],\n",
      "         [0.4545, 0.4928, 0.4736]],\n",
      "\n",
      "        [[0.4971, 0.5104, 0.4726],\n",
      "         [0.5434, 0.5075, 0.4694],\n",
      "         [0.5415, 0.5075, 0.4701],\n",
      "         [0.5940, 0.4966, 0.4541]],\n",
      "\n",
      "        [[0.4679, 0.5081, 0.4591],\n",
      "         [0.4703, 0.5128, 0.4635],\n",
      "         [0.5266, 0.5068, 0.4797],\n",
      "         [0.5517, 0.5031, 0.4733]]], grad_fn=<SigmoidBackward>) torch.Size([3, 4, 3])\n"
     ]
    }
   ],
   "source": [
    "print(\"decoder output:\", output, output.shape)"
   ]
  },
  {
   "cell_type": "code",
   "execution_count": 9,
   "metadata": {},
   "outputs": [],
   "source": [
    "class VAE(Module):\n",
    "    def __init__(self, x_size, encoder_hidden_size, decoder_hidden_size, z_size, n_sample, device=None):\n",
    "        super(VAE, self).__init__()\n",
    "        self.x_size = x_size\n",
    "        self.encoder_hidden_size = encoder_hidden_size\n",
    "        self.decoder_hidden_size = decoder_hidden_size\n",
    "        self.z_size = z_size\n",
    "        self.n_sample = n_sample\n",
    "        self.Encoder = encoder(input_size=x_size, hidden_size=encoder_hidden_size,\n",
    "                  output_dim=z_size,n_sample=n_sample, device=device)\n",
    "        self.Decoder = decoder(input_size=z_size, \n",
    "                  hidden_size=decoder_hidden_size,\n",
    "                  output_dim=x_size)\n",
    "    def forward(self, x):\n",
    "        encoder_mu, encoder_sigma_sq, z = self.Encoder(x)\n",
    "        output = self.Decoder(z)\n",
    "        \n",
    "        return (x, z, encoder_mu, encoder_sigma_sq, output)\n",
    "    "
   ]
  },
  {
   "cell_type": "markdown",
   "metadata": {},
   "source": [
    "# Load dataset"
   ]
  },
  {
   "cell_type": "code",
   "execution_count": 14,
   "metadata": {},
   "outputs": [],
   "source": [
    "class preprocess_MNIST(Dataset):\n",
    "    def __init__(self, train=True):\n",
    "        super(preprocess_MNIST, self).__init__()\n",
    "        self.train = train\n",
    "        if self.train:\n",
    "            self.underlying_tensor = MNIST(root=\"./\", download=True).train_data\n",
    "        else:\n",
    "            self.underlying_tensor = MNIST(root=\"./\", download=True).test_data\n",
    "    def __getitem__(self, idx):\n",
    "        return torch.flatten(self.underlying_tensor[idx].float()/255.0)\n",
    "    def __len__(self):\n",
    "        return self.underlying_tensor.shape[0]"
   ]
  },
  {
   "cell_type": "code",
   "execution_count": 15,
   "metadata": {},
   "outputs": [
    {
     "name": "stderr",
     "output_type": "stream",
     "text": [
      "  0%|          | 0/9912422 [00:00<?, ?it/s]"
     ]
    },
    {
     "name": "stdout",
     "output_type": "stream",
     "text": [
      "Downloading http://yann.lecun.com/exdb/mnist/train-images-idx3-ubyte.gz to ./MNIST/raw/train-images-idx3-ubyte.gz\n"
     ]
    },
    {
     "name": "stderr",
     "output_type": "stream",
     "text": [
      "9920512it [00:00, 10846790.23it/s]                            \n"
     ]
    },
    {
     "name": "stdout",
     "output_type": "stream",
     "text": [
      "Extracting ./MNIST/raw/train-images-idx3-ubyte.gz to ./MNIST/raw\n"
     ]
    },
    {
     "name": "stderr",
     "output_type": "stream",
     "text": [
      "  0%|          | 0/28881 [00:00<?, ?it/s]"
     ]
    },
    {
     "name": "stdout",
     "output_type": "stream",
     "text": [
      "Downloading http://yann.lecun.com/exdb/mnist/train-labels-idx1-ubyte.gz to ./MNIST/raw/train-labels-idx1-ubyte.gz\n"
     ]
    },
    {
     "name": "stderr",
     "output_type": "stream",
     "text": [
      "32768it [00:00, 132669.49it/s]           \n",
      "  0%|          | 0/1648877 [00:00<?, ?it/s]"
     ]
    },
    {
     "name": "stdout",
     "output_type": "stream",
     "text": [
      "Extracting ./MNIST/raw/train-labels-idx1-ubyte.gz to ./MNIST/raw\n",
      "Downloading http://yann.lecun.com/exdb/mnist/t10k-images-idx3-ubyte.gz to ./MNIST/raw/t10k-images-idx3-ubyte.gz\n"
     ]
    },
    {
     "name": "stderr",
     "output_type": "stream",
     "text": [
      "1654784it [00:00, 2767293.08it/s]                           \n",
      "0it [00:00, ?it/s]"
     ]
    },
    {
     "name": "stdout",
     "output_type": "stream",
     "text": [
      "Extracting ./MNIST/raw/t10k-images-idx3-ubyte.gz to ./MNIST/raw\n",
      "Downloading http://yann.lecun.com/exdb/mnist/t10k-labels-idx1-ubyte.gz to ./MNIST/raw/t10k-labels-idx1-ubyte.gz\n"
     ]
    },
    {
     "name": "stderr",
     "output_type": "stream",
     "text": [
      "8192it [00:00, 48325.73it/s]            "
     ]
    },
    {
     "name": "stdout",
     "output_type": "stream",
     "text": [
      "Extracting ./MNIST/raw/t10k-labels-idx1-ubyte.gz to ./MNIST/raw\n",
      "Processing...\n",
      "Done!\n"
     ]
    },
    {
     "name": "stderr",
     "output_type": "stream",
     "text": [
      "\n",
      "/opt/anaconda3/lib/python3.7/site-packages/torchvision/datasets/mnist.py:53: UserWarning: train_data has been renamed data\n",
      "  warnings.warn(\"train_data has been renamed data\")\n"
     ]
    }
   ],
   "source": [
    "dataset = preprocess_MNIST()\n",
    "dataloader = DataLoader(dataset, batch_size=64, shuffle=True)"
   ]
  },
  {
   "cell_type": "markdown",
   "metadata": {},
   "source": [
    "# Loss function"
   ]
  },
  {
   "cell_type": "code",
   "execution_count": 16,
   "metadata": {},
   "outputs": [],
   "source": [
    "class VAE_loss(torch.nn.modules.loss._Loss):\n",
    "    def __init__(self, n_sample):\n",
    "        super(VAE_loss, self).__init__()\n",
    "        self.n_sample = n_sample\n",
    "    def forward(self, x, encoder_mu, encoder_sigma_sq, output):\n",
    "        original_dim = x.shape[1]\n",
    "        # x shape: batch, encoder input_size\n",
    "        # encoder_mu shape: batch, n_sample, encoder output dim\n",
    "        # encoder_sigma_sq shape: batch, n_sample, encoder output dim\n",
    "        # output shape: batch, n_sample, decoder output dim\n",
    "        assert n_sample == output.shape[1]\n",
    "        \n",
    "        encoder_loss = torch.sum(1 + torch.log(encoder_sigma_sq) - \\\n",
    "            encoder_sigma_sq - torch.pow(encoder_mu, 2)) / 2 \n",
    "        # decoder loss shape: batch, decoder output dim\n",
    "        decoder_loss = mse_loss(x, torch.sum(output, dim=1)/ n_sample) * original_dim\n",
    "        \n",
    "\n",
    "        return -(encoder_loss - decoder_loss)"
   ]
  },
  {
   "cell_type": "markdown",
   "metadata": {},
   "source": [
    "# Train"
   ]
  },
  {
   "cell_type": "code",
   "execution_count": 17,
   "metadata": {},
   "outputs": [],
   "source": [
    "x_size = 784\n",
    "encoder_hidden_size= 500\n",
    "z_size = 10\n",
    "n_sample = 1\n",
    "decoder_hidden_size = 500"
   ]
  },
  {
   "cell_type": "code",
   "execution_count": 18,
   "metadata": {},
   "outputs": [],
   "source": [
    "vae = VAE(x_size, encoder_hidden_size, decoder_hidden_size, z_size, n_sample, device=device).to(device)"
   ]
  },
  {
   "cell_type": "code",
   "execution_count": 19,
   "metadata": {},
   "outputs": [],
   "source": [
    "optimizer = Adam(vae.parameters(), lr=0.0001)\n",
    "vae_loss = VAE_loss(n_sample).to(device=device)"
   ]
  },
  {
   "cell_type": "code",
   "execution_count": 35,
   "metadata": {},
   "outputs": [
    {
     "name": "stdout",
     "output_type": "stream",
     "text": [
      "tensor(23.0606, device='cuda:0', grad_fn=<DivBackward0>)\n",
      "tensor(23.0316, device='cuda:0', grad_fn=<DivBackward0>)\n",
      "tensor(23.0066, device='cuda:0', grad_fn=<DivBackward0>)\n",
      "tensor(22.9831, device='cuda:0', grad_fn=<DivBackward0>)\n",
      "tensor(22.9533, device='cuda:0', grad_fn=<DivBackward0>)\n",
      "tensor(22.9203, device='cuda:0', grad_fn=<DivBackward0>)\n",
      "tensor(22.8963, device='cuda:0', grad_fn=<DivBackward0>)\n",
      "tensor(22.8712, device='cuda:0', grad_fn=<DivBackward0>)\n",
      "tensor(22.8444, device='cuda:0', grad_fn=<DivBackward0>)\n",
      "tensor(22.8178, device='cuda:0', grad_fn=<DivBackward0>)\n",
      "tensor(22.7887, device='cuda:0', grad_fn=<DivBackward0>)\n",
      "tensor(22.7658, device='cuda:0', grad_fn=<DivBackward0>)\n",
      "tensor(22.7383, device='cuda:0', grad_fn=<DivBackward0>)\n",
      "tensor(22.7177, device='cuda:0', grad_fn=<DivBackward0>)\n",
      "tensor(22.6885, device='cuda:0', grad_fn=<DivBackward0>)\n",
      "tensor(22.6597, device='cuda:0', grad_fn=<DivBackward0>)\n",
      "tensor(22.6338, device='cuda:0', grad_fn=<DivBackward0>)\n",
      "tensor(22.6141, device='cuda:0', grad_fn=<DivBackward0>)\n",
      "tensor(22.5879, device='cuda:0', grad_fn=<DivBackward0>)\n",
      "tensor(22.5501, device='cuda:0', grad_fn=<DivBackward0>)\n",
      "tensor(22.5350, device='cuda:0', grad_fn=<DivBackward0>)\n",
      "tensor(22.5131, device='cuda:0', grad_fn=<DivBackward0>)\n",
      "tensor(22.4851, device='cuda:0', grad_fn=<DivBackward0>)\n",
      "tensor(22.4587, device='cuda:0', grad_fn=<DivBackward0>)\n",
      "tensor(22.4353, device='cuda:0', grad_fn=<DivBackward0>)\n",
      "tensor(22.4102, device='cuda:0', grad_fn=<DivBackward0>)\n",
      "tensor(22.3808, device='cuda:0', grad_fn=<DivBackward0>)\n",
      "tensor(22.3600, device='cuda:0', grad_fn=<DivBackward0>)\n",
      "tensor(22.3342, device='cuda:0', grad_fn=<DivBackward0>)\n",
      "tensor(22.3128, device='cuda:0', grad_fn=<DivBackward0>)\n",
      "tensor(22.2816, device='cuda:0', grad_fn=<DivBackward0>)\n",
      "tensor(22.2672, device='cuda:0', grad_fn=<DivBackward0>)\n",
      "tensor(22.2381, device='cuda:0', grad_fn=<DivBackward0>)\n",
      "tensor(22.2158, device='cuda:0', grad_fn=<DivBackward0>)\n",
      "tensor(22.1928, device='cuda:0', grad_fn=<DivBackward0>)\n",
      "tensor(22.1670, device='cuda:0', grad_fn=<DivBackward0>)\n",
      "tensor(22.1402, device='cuda:0', grad_fn=<DivBackward0>)\n",
      "tensor(22.1139, device='cuda:0', grad_fn=<DivBackward0>)\n",
      "tensor(22.0920, device='cuda:0', grad_fn=<DivBackward0>)\n",
      "tensor(22.0740, device='cuda:0', grad_fn=<DivBackward0>)\n",
      "tensor(22.0503, device='cuda:0', grad_fn=<DivBackward0>)\n",
      "tensor(22.0276, device='cuda:0', grad_fn=<DivBackward0>)\n",
      "tensor(21.9984, device='cuda:0', grad_fn=<DivBackward0>)\n",
      "tensor(21.9736, device='cuda:0', grad_fn=<DivBackward0>)\n",
      "tensor(21.9615, device='cuda:0', grad_fn=<DivBackward0>)\n",
      "tensor(21.9331, device='cuda:0', grad_fn=<DivBackward0>)\n",
      "tensor(21.9098, device='cuda:0', grad_fn=<DivBackward0>)\n",
      "tensor(21.8918, device='cuda:0', grad_fn=<DivBackward0>)\n",
      "tensor(21.8597, device='cuda:0', grad_fn=<DivBackward0>)\n",
      "tensor(21.8455, device='cuda:0', grad_fn=<DivBackward0>)\n"
     ]
    }
   ],
   "source": [
    "for epoch in range(50):\n",
    "    loss_list = []\n",
    "    for x in dataloader:\n",
    "        vae.zero_grad()\n",
    "        vae(x.to(device=device))\n",
    "        z, log_prob, encoder_mu, encoder_sigma_sq, output = vae(x.to(device=device))\n",
    "        loss = vae_loss(x.to(device=device), encoder_mu, encoder_sigma_sq, output)\n",
    "        loss_list.append(loss)\n",
    "        loss.backward()\n",
    "        optimizer.step()\n",
    "    print(sum(loss_list)/len(loss_list))"
   ]
  },
  {
   "cell_type": "code",
   "execution_count": 36,
   "metadata": {},
   "outputs": [
    {
     "data": {
      "text/plain": [
       "<matplotlib.image.AxesImage at 0x7f9a20ba5cd0>"
      ]
     },
     "execution_count": 36,
     "metadata": {},
     "output_type": "execute_result"
    },
    {
     "data": {
      "image/png": "[encoded data removed]",
      "text/plain": [
       "<Figure size 432x288 with 1 Axes>"
      ]
     },
     "metadata": {
      "needs_background": "light"
     },
     "output_type": "display_data"
    }
   ],
   "source": [
    "test_data = MNIST(root=\"./\", download=False).test_data\n",
    "sample = test_data[10].numpy()\n",
    "plt.imshow(sample)"
   ]
  },
  {
   "cell_type": "code",
   "execution_count": 56,
   "metadata": {},
   "outputs": [
    {
     "data": {
      "text/plain": [
       "<matplotlib.image.AxesImage at 0x7f9a208f21d0>"
      ]
     },
     "execution_count": 56,
     "metadata": {},
     "output_type": "execute_result"
    },
    {
     "data": {
      "image/png": "[encoded data removed]",
      "text/plain": [
       "<Figure size 432x288 with 1 Axes>"
      ]
     },
     "metadata": {
      "needs_background": "light"
     },
     "output_type": "display_data"
    }
   ],
   "source": []
  },
  {
   "cell_type": "code",
   "execution_count": 67,
   "metadata": {},
   "outputs": [
    {
     "data": {
      "text/plain": [
       "<matplotlib.image.AxesImage at 0x7f9a206fc610>"
      ]
     },
     "execution_count": 67,
     "metadata": {},
     "output_type": "execute_result"
    },
    {
     "data": {
      "image/png": "[encoded data removed]",
      "text/plain": [
       "<Figure size 432x288 with 1 Axes>"
      ]
     },
     "metadata": {
      "needs_background": "light"
     },
     "output_type": "display_data"
    }
   ],
   "source": [
    "x = test_data[4].float().flatten()/255\n",
    "plt.imshow(test_data[4])"
   ]
  },
  {
   "cell_type": "code",
   "execution_count": 68,
   "metadata": {},
   "outputs": [],
   "source": [
    "encoder_mu, encoder_sigma_sq, z = vae.Encoder(x.unsqueeze(0).to(device))\n",
    "\n",
    "#z, log_prob, encoder_mu, encoder_sigma_sq, decoder_mu, decoder_sigma_sq"
   ]
  },
  {
   "cell_type": "code",
   "execution_count": 69,
   "metadata": {},
   "outputs": [],
   "source": [
    "decoder_output = vae.Decoder(z)"
   ]
  },
  {
   "cell_type": "code",
   "execution_count": 70,
   "metadata": {},
   "outputs": [],
   "source": [
    "output = (decoder_output * 255).reshape(28, 28).detach().cpu().to(torch.uint8).numpy()"
   ]
  },
  {
   "cell_type": "code",
   "execution_count": 71,
   "metadata": {},
   "outputs": [
    {
     "data": {
      "text/plain": [
       "<matplotlib.image.AxesImage at 0x7f9a206e9410>"
      ]
     },
     "execution_count": 71,
     "metadata": {},
     "output_type": "execute_result"
    },
    {
     "data": {
      "image/png": "[encoded data removed]",
      "text/plain": [
       "<Figure size 432x288 with 1 Axes>"
      ]
     },
     "metadata": {
      "needs_background": "light"
     },
     "output_type": "display_data"
    }
   ],
   "source": [
    "plt.imshow(output)"
   ]
  },
  {
   "cell_type": "code",
   "execution_count": null,
   "metadata": {},
   "outputs": [],
   "source": []
  }
 ],
 "metadata": {
  "kernelspec": {
   "display_name": "Python 3",
   "language": "python",
   "name": "python3"
  },
  "language_info": {
   "codemirror_mode": {
    "name": "ipython",
    "version": 3
   },
   "file_extension": ".py",
   "mimetype": "text/x-python",
   "name": "python",
   "nbconvert_exporter": "python",
   "pygments_lexer": "ipython3",
   "version": "3.7.4"
  }
 },
 "nbformat": 4,
 "nbformat_minor": 4
}
